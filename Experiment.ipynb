{
 "cells": [
  {
   "cell_type": "code",
   "execution_count": 21,
   "metadata": {},
   "outputs": [],
   "source": [
    "import sqlite3\n",
    "import requests\n",
    "import base64\n",
    "import json\n",
    "import urllib\n",
    "import numpy as np"
   ]
  },
  {
   "cell_type": "code",
   "execution_count": 4,
   "metadata": {},
   "outputs": [],
   "source": [
    "def get_client_credentials_token():\n",
    "    client_id = \"8f579d1c406a4330aa7d14b7bb2806ef\"\n",
    "    client_secret = \"3e696c1315764554bec59f8dc611bc1c\"\n",
    "\n",
    "    headers = {\n",
    "        \"Content-Type\": \"application/x-www-form-urlencoded\",\n",
    "        \"Authorization\": f\"Basic {base64.b64encode(f'{client_id}:{client_secret}'.encode()).decode()}\"\n",
    "    }\n",
    "\n",
    "    data = {\n",
    "        \"grant_type\": \"client_credentials\"\n",
    "    }\n",
    "\n",
    "    url = \"https://accounts.spotify.com/api/token\"\n",
    "    response = requests.post(url, headers=headers, data=data)\n",
    "    return response.json()[\"access_token\"]"
   ]
  },
  {
   "cell_type": "code",
   "execution_count": 15,
   "metadata": {},
   "outputs": [],
   "source": [
    "def generate_recommendations():\n",
    "    # Get the access token\n",
    "    token = get_client_credentials_token()\n",
    "\n",
    "    headers = {\n",
    "        \"Authorization\": f\"Bearer {token}\",\n",
    "        \"Content-Type\": \"application/json\",\n",
    "    }\n",
    "\n",
    "    # Get the past 10 songs played from the database\n",
    "    past_songs = get_past_songs(40)\n",
    "    if not past_songs:\n",
    "        return None\n",
    "\n",
    "    # Get the Spotify IDs of the past songs\n",
    "    track_ids = []\n",
    "    for song in past_songs:\n",
    "        track_id = get_track_id(song[0], token=token)\n",
    "        if track_id:\n",
    "            track_ids.append(track_id)\n",
    "\n",
    "    if not track_ids:\n",
    "        return None\n",
    "\n",
    "    # Get the recommendations from Spotify\n",
    "    url = f\"https://api.spotify.com/v1/recommendations?seed_tracks={','.join(track_ids)}\"\n",
    "    response = requests.get(url, headers=headers)\n",
    "    data = json.loads(response.text)\n",
    "    recommendations = data.get(\"tracks\", [])\n",
    "\n",
    "    return recommendations"
   ]
  },
  {
   "cell_type": "code",
   "execution_count": 7,
   "metadata": {},
   "outputs": [],
   "source": [
    "def get_past_songs(limit):\n",
    "    conn = sqlite3.connect('music.db')\n",
    "    cursor = conn.cursor()\n",
    "    cursor.execute(\"SELECT title, url FROM music ORDER BY id DESC LIMIT ?\", (limit,))\n",
    "    past_songs = cursor.fetchall()\n",
    "    conn.close()\n",
    "    return past_songs"
   ]
  },
  {
   "cell_type": "code",
   "execution_count": 9,
   "metadata": {},
   "outputs": [],
   "source": [
    "def get_track_id(title, token=None):\n",
    "    # Search for the song on Spotify and return its ID\n",
    "    if token == None:\n",
    "        token = get_client_credentials_token()\n",
    "\n",
    "    headers = {\n",
    "        \"Authorization\": f\"Bearer {token}\",\n",
    "        \"Content-Type\": \"application/json\",\n",
    "    }\n",
    "\n",
    "    query = f\"{title}\"\n",
    "    query = urllib.parse.quote(query)\n",
    "    url = f\"https://api.spotify.com/v1/search?q={query}&type=track\"\n",
    "    response = requests.get(url, headers=headers)\n",
    "    data = json.loads(response.text)\n",
    "    try:\n",
    "        track_id = data.get(\"tracks\", {}).get(\"items\", [{}])[0].get(\"id\")\n",
    "    except FileNotFoundError:\n",
    "        track_id = None\n",
    "    return track_id"
   ]
  },
  {
   "cell_type": "code",
   "execution_count": 48,
   "metadata": {},
   "outputs": [],
   "source": [
    "def extract_features(songs, token=None):\n",
    "    if token == None:\n",
    "        token = get_client_credentials_token()\n",
    "\n",
    "    headers = {\n",
    "        \"Authorization\": f\"Bearer {token}\",\n",
    "        \"Content-Type\": \"application/json\",\n",
    "    }\n",
    "\n",
    "    features = np.array([])\n",
    "    keys = ['danceability', 'energy', 'valence', 'key', 'loudness', 'mode', \n",
    "            'speechiness', 'acousticness', 'instrumentalness', 'liveness', \n",
    "            'valence', 'tempo']\n",
    "    for i, song in enumerate(songs):\n",
    "        track_id = get_track_id(song[0], token=token)\n",
    "        if track_id:\n",
    "            url = f\"https://api.spotify.com/v1/audio-features/{track_id}\"\n",
    "            response = requests.get(url, headers=headers)\n",
    "            data = json.loads(response.text)\n",
    "            if features.size == 0:\n",
    "                features = np.array([data[key] for key in keys])\n",
    "            else:\n",
    "                features = np.vstack((features, np.array([data[key] for key in keys])))\n",
    "    return features"
   ]
  },
  {
   "cell_type": "code",
   "execution_count": 62,
   "metadata": {},
   "outputs": [],
   "source": [
    "songs = get_past_songs(125)\n",
    "dataset = extract_features(songs)"
   ]
  },
  {
   "cell_type": "code",
   "execution_count": 63,
   "metadata": {},
   "outputs": [],
   "source": [
    "from sklearn.preprocessing import StandardScaler"
   ]
  },
  {
   "cell_type": "code",
   "execution_count": 64,
   "metadata": {},
   "outputs": [],
   "source": [
    "scaler = StandardScaler()\n",
    "scaled_dataset = scaler.fit_transform(dataset)"
   ]
  },
  {
   "cell_type": "code",
   "execution_count": 65,
   "metadata": {},
   "outputs": [
    {
     "data": {
      "text/plain": [
       "(106, 12)"
      ]
     },
     "execution_count": 65,
     "metadata": {},
     "output_type": "execute_result"
    }
   ],
   "source": [
    "dataset.shape"
   ]
  }
 ],
 "metadata": {
  "kernelspec": {
   "display_name": "Python 3",
   "language": "python",
   "name": "python3"
  },
  "language_info": {
   "codemirror_mode": {
    "name": "ipython",
    "version": 3
   },
   "file_extension": ".py",
   "mimetype": "text/x-python",
   "name": "python",
   "nbconvert_exporter": "python",
   "pygments_lexer": "ipython3",
   "version": "3.9.16"
  },
  "orig_nbformat": 4,
  "vscode": {
   "interpreter": {
    "hash": "194bd9e04f07b93f75de848a5c3e7b5a326c51128d5b03b5ccfbe00178673054"
   }
  }
 },
 "nbformat": 4,
 "nbformat_minor": 2
}
